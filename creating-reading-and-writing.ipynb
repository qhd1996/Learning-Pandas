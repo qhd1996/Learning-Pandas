{
  "cells": [
    {
      "metadata": {
        "_uuid": "6de2ce12764a892ea537c1a66fbde364b9cb2643"
      },
      "cell_type": "markdown",
      "source": "# Introduction\nWelcome to the **[Learn Pandas](https://www.kaggle.com/learn/pandas)** track. These hands-on exercises are targeted for someone who has worked with Pandas a little before. \nEach page has a list of `relevant resources` you can use if you get stumped. The top item in each list has been custom-made to help you with the exercises on that page.\n\nThe first step in most data analytics projects is reading the data file. In this section, you'll create `Series` and `DataFrame` objects, both by hand and by reading data files.\n\n# Relevant Resources\n* ** [Creating, Reading and Writing Reference](https://www.kaggle.com/residentmario/creating-reading-and-writing-reference)**\n* [General Pandas Cheat Sheet](https://assets.datacamp.com/blog_assets/PandasPythonForDataScience.pdf)\n\n# Set Up\n\nRun the code cell below to load libraries you will need (including code to check your answers)."
    },
    {
      "metadata": {
        "trusted": true,
        "_uuid": "0b10cc71008a8decc63255293a738b4b6588de2c"
      },
      "cell_type": "code",
      "source": "import pandas as pd\npd.set_option('max_rows', 5)\nfrom learntools.core import binder; binder.bind(globals())\nfrom learntools.pandas.creating_reading_and_writing import *\nprint(\"Setup complete.\")",
      "execution_count": 1,
      "outputs": [
        {
          "output_type": "stream",
          "text": "Setup complete.\n",
          "name": "stdout"
        }
      ]
    },
    {
      "metadata": {
        "_uuid": "702bacbb612c1ccf7764b6b9d397cd8a26c45431"
      },
      "cell_type": "markdown",
      "source": "# Exercises"
    },
    {
      "metadata": {
        "_uuid": "3627bf8b2a4796ca94818f576c4fc960fe0f621b"
      },
      "cell_type": "markdown",
      "source": "## 1.\n\nIn the cell below, create a DataFrame `fruits` that looks like this:\n\n![](https://i.imgur.com/Ax3pp2A.png)"
    },
    {
      "metadata": {
        "trusted": true,
        "_uuid": "6f009d8fb40dea06cfc5fb8aed5aa65aa88eceb6"
      },
      "cell_type": "code",
      "source": "# Your code goes here. Create a dataframe matching the above diagram and assign it to the variable fruits.\nfruits = pd.DataFrame({'Apples': [30], 'Bananas': [21]})\n\nq1.check()\nfruits",
      "execution_count": 2,
      "outputs": [
        {
          "output_type": "display_data",
          "data": {
            "text/plain": "<IPython.core.display.Javascript object>",
            "application/javascript": "parent.postMessage({\"jupyterEvent\": \"custom.exercise_interaction\", \"data\": {\"outcomeType\": 1, \"valueTowardsCompletion\": 0.16666666666666666, \"interactionType\": 1, \"learnTutorialId\": 45, \"questionId\": \"1_FruitDfCreation\", \"learnToolsVersion\": \"0.2.10\", \"failureMessage\": \"\", \"exceptionClass\": \"\", \"trace\": \"\"}}, \"*\")"
          },
          "metadata": {}
        },
        {
          "output_type": "display_data",
          "data": {
            "text/plain": "Correct",
            "text/markdown": "<span style=\"color:#33cc33\">Correct</span>"
          },
          "metadata": {}
        },
        {
          "output_type": "execute_result",
          "execution_count": 2,
          "data": {
            "text/plain": "   Apples  Bananas\n0      30       21",
            "text/html": "<div>\n<style scoped>\n    .dataframe tbody tr th:only-of-type {\n        vertical-align: middle;\n    }\n\n    .dataframe tbody tr th {\n        vertical-align: top;\n    }\n\n    .dataframe thead th {\n        text-align: right;\n    }\n</style>\n<table border=\"1\" class=\"dataframe\">\n  <thead>\n    <tr style=\"text-align: right;\">\n      <th></th>\n      <th>Apples</th>\n      <th>Bananas</th>\n    </tr>\n  </thead>\n  <tbody>\n    <tr>\n      <th>0</th>\n      <td>30</td>\n      <td>21</td>\n    </tr>\n  </tbody>\n</table>\n</div>"
          },
          "metadata": {}
        }
      ]
    },
    {
      "metadata": {
        "trusted": true,
        "_uuid": "6e0cdef1ace27f810842d05668990dfc210083cd"
      },
      "cell_type": "code",
      "source": "# Uncomment the line below to see a solution\n#q1.solution()",
      "execution_count": 3,
      "outputs": []
    },
    {
      "metadata": {
        "_uuid": "96338ca9c241701ee758a29f9e339c6129a2cd48"
      },
      "cell_type": "markdown",
      "source": "## 2.\n\nCreate a dataframe `fruit_sales` that matches the diagram below:\n\n![](https://i.imgur.com/CHPn7ZF.png)"
    },
    {
      "metadata": {
        "trusted": true,
        "_uuid": "7835f782a01095cc673fd06197c861c2f759e824"
      },
      "cell_type": "code",
      "source": "# Your code goes here. Create a dataframe matching the above diagram and assign it to the variable fruit_sales.\nfruit_sales = pd.DataFrame(\n        {'Apples': [35, 41], 'Bananas': [21, 34]},\n        index=['2017 Sales', '2018 Sales']\n    )\n\nq2.check()\nfruit_sales",
      "execution_count": 4,
      "outputs": [
        {
          "output_type": "display_data",
          "data": {
            "text/plain": "<IPython.core.display.Javascript object>",
            "application/javascript": "parent.postMessage({\"jupyterEvent\": \"custom.exercise_interaction\", \"data\": {\"outcomeType\": 1, \"valueTowardsCompletion\": 0.16666666666666666, \"interactionType\": 1, \"learnTutorialId\": 45, \"questionId\": \"2_FruitSalesDfCreation\", \"learnToolsVersion\": \"0.2.10\", \"failureMessage\": \"\", \"exceptionClass\": \"\", \"trace\": \"\"}}, \"*\")"
          },
          "metadata": {}
        },
        {
          "output_type": "display_data",
          "data": {
            "text/plain": "Correct",
            "text/markdown": "<span style=\"color:#33cc33\">Correct</span>"
          },
          "metadata": {}
        },
        {
          "output_type": "execute_result",
          "execution_count": 4,
          "data": {
            "text/plain": "            Apples  Bananas\n2017 Sales      35       21\n2018 Sales      41       34",
            "text/html": "<div>\n<style scoped>\n    .dataframe tbody tr th:only-of-type {\n        vertical-align: middle;\n    }\n\n    .dataframe tbody tr th {\n        vertical-align: top;\n    }\n\n    .dataframe thead th {\n        text-align: right;\n    }\n</style>\n<table border=\"1\" class=\"dataframe\">\n  <thead>\n    <tr style=\"text-align: right;\">\n      <th></th>\n      <th>Apples</th>\n      <th>Bananas</th>\n    </tr>\n  </thead>\n  <tbody>\n    <tr>\n      <th>2017 Sales</th>\n      <td>35</td>\n      <td>21</td>\n    </tr>\n    <tr>\n      <th>2018 Sales</th>\n      <td>41</td>\n      <td>34</td>\n    </tr>\n  </tbody>\n</table>\n</div>"
          },
          "metadata": {}
        }
      ]
    },
    {
      "metadata": {
        "trusted": true,
        "_uuid": "e6a53d069f144ea3827408b37adcd7150fe17b59"
      },
      "cell_type": "code",
      "source": "#q2.solution()",
      "execution_count": 5,
      "outputs": []
    },
    {
      "metadata": {
        "_uuid": "e2ded203879bdea20d7e2cad95b0bc3b09323e6c"
      },
      "cell_type": "markdown",
      "source": "## 3.\n\nCreate a variable `ingredients` with a `pd.Series` that looks like:\n\n```\nFlour     4 cups\nMilk       1 cup\nEggs     2 large\nSpam       1 can\nName: Dinner, dtype: object\n```"
    },
    {
      "metadata": {
        "trusted": true,
        "_uuid": "ec9002d3294956e6ede22bf2d5d8c4e8ac531928"
      },
      "cell_type": "code",
      "source": "ingredients = pd.Series(['4 cups', '1 cup', '2 large', '1 can'],\n                         index=['Flour', 'Milk', 'Eggs', 'Spam'],\n                         name='Dinner')\n\nq3.check()\ningredients",
      "execution_count": 6,
      "outputs": [
        {
          "output_type": "display_data",
          "data": {
            "text/plain": "<IPython.core.display.Javascript object>",
            "application/javascript": "parent.postMessage({\"jupyterEvent\": \"custom.exercise_interaction\", \"data\": {\"outcomeType\": 1, \"valueTowardsCompletion\": 0.16666666666666666, \"interactionType\": 1, \"learnTutorialId\": 45, \"questionId\": \"3_RecipeSeriesCreation\", \"learnToolsVersion\": \"0.2.10\", \"failureMessage\": \"\", \"exceptionClass\": \"\", \"trace\": \"\"}}, \"*\")"
          },
          "metadata": {}
        },
        {
          "output_type": "display_data",
          "data": {
            "text/plain": "Correct",
            "text/markdown": "<span style=\"color:#33cc33\">Correct</span>"
          },
          "metadata": {}
        },
        {
          "output_type": "execute_result",
          "execution_count": 6,
          "data": {
            "text/plain": "Flour     4 cups\nMilk       1 cup\nEggs     2 large\nSpam       1 can\nName: Dinner, dtype: object"
          },
          "metadata": {}
        }
      ]
    },
    {
      "metadata": {
        "trusted": true,
        "_uuid": "137306cc1a826a24866721a454b05be723fabb23"
      },
      "cell_type": "code",
      "source": "#q3.solution()",
      "execution_count": 7,
      "outputs": []
    },
    {
      "metadata": {
        "_uuid": "5b65bfec25c10c4fe14322e0113d5455b0e9b263"
      },
      "cell_type": "markdown",
      "source": "## 4.\n\nRead the following csv dataset of wine reviews into a DataFrame called `reviews`:\n\n![](https://i.imgur.com/74RCZtU.png)\n\nThe filepath to the csv file is `../input/wine-reviews/winemag-data_first150k.csv`."
    },
    {
      "metadata": {
        "trusted": true,
        "_uuid": "7d3cb09d9a56120f15de256b69401a27721a7134"
      },
      "cell_type": "code",
      "source": "reviews = pd.read_csv(\"../input/wine-reviews/winemag-data_first150k.csv\", index_col=0)\n\nq4.check()\nreviews",
      "execution_count": 8,
      "outputs": [
        {
          "output_type": "display_data",
          "data": {
            "text/plain": "<IPython.core.display.Javascript object>",
            "application/javascript": "parent.postMessage({\"jupyterEvent\": \"custom.exercise_interaction\", \"data\": {\"outcomeType\": 1, \"valueTowardsCompletion\": 0.16666666666666666, \"interactionType\": 1, \"learnTutorialId\": 45, \"questionId\": \"4_ReadWineCsv\", \"learnToolsVersion\": \"0.2.10\", \"failureMessage\": \"\", \"exceptionClass\": \"\", \"trace\": \"\"}}, \"*\")"
          },
          "metadata": {}
        },
        {
          "output_type": "display_data",
          "data": {
            "text/plain": "Correct",
            "text/markdown": "<span style=\"color:#33cc33\">Correct</span>"
          },
          "metadata": {}
        },
        {
          "output_type": "execute_result",
          "execution_count": 8,
          "data": {
            "text/plain": "       country           ...                              winery\n0           US           ...                               Heitz\n1        Spain           ...             Bodega Carmen Rodríguez\n...        ...           ...                                 ...\n150928  France           ...                              Gosset\n150929   Italy           ...                       Alois Lageder\n\n[150930 rows x 10 columns]",
            "text/html": "<div>\n<style scoped>\n    .dataframe tbody tr th:only-of-type {\n        vertical-align: middle;\n    }\n\n    .dataframe tbody tr th {\n        vertical-align: top;\n    }\n\n    .dataframe thead th {\n        text-align: right;\n    }\n</style>\n<table border=\"1\" class=\"dataframe\">\n  <thead>\n    <tr style=\"text-align: right;\">\n      <th></th>\n      <th>country</th>\n      <th>description</th>\n      <th>designation</th>\n      <th>points</th>\n      <th>price</th>\n      <th>province</th>\n      <th>region_1</th>\n      <th>region_2</th>\n      <th>variety</th>\n      <th>winery</th>\n    </tr>\n  </thead>\n  <tbody>\n    <tr>\n      <th>0</th>\n      <td>US</td>\n      <td>This tremendous 100% varietal wine hails from ...</td>\n      <td>Martha's Vineyard</td>\n      <td>96</td>\n      <td>235.0</td>\n      <td>California</td>\n      <td>Napa Valley</td>\n      <td>Napa</td>\n      <td>Cabernet Sauvignon</td>\n      <td>Heitz</td>\n    </tr>\n    <tr>\n      <th>1</th>\n      <td>Spain</td>\n      <td>Ripe aromas of fig, blackberry and cassis are ...</td>\n      <td>Carodorum Selección Especial Reserva</td>\n      <td>96</td>\n      <td>110.0</td>\n      <td>Northern Spain</td>\n      <td>Toro</td>\n      <td>NaN</td>\n      <td>Tinta de Toro</td>\n      <td>Bodega Carmen Rodríguez</td>\n    </tr>\n    <tr>\n      <th>...</th>\n      <td>...</td>\n      <td>...</td>\n      <td>...</td>\n      <td>...</td>\n      <td>...</td>\n      <td>...</td>\n      <td>...</td>\n      <td>...</td>\n      <td>...</td>\n      <td>...</td>\n    </tr>\n    <tr>\n      <th>150928</th>\n      <td>France</td>\n      <td>A perfect salmon shade, with scents of peaches...</td>\n      <td>Grand Brut Rosé</td>\n      <td>90</td>\n      <td>52.0</td>\n      <td>Champagne</td>\n      <td>Champagne</td>\n      <td>NaN</td>\n      <td>Champagne Blend</td>\n      <td>Gosset</td>\n    </tr>\n    <tr>\n      <th>150929</th>\n      <td>Italy</td>\n      <td>More Pinot Grigios should taste like this. A r...</td>\n      <td>NaN</td>\n      <td>90</td>\n      <td>15.0</td>\n      <td>Northeastern Italy</td>\n      <td>Alto Adige</td>\n      <td>NaN</td>\n      <td>Pinot Grigio</td>\n      <td>Alois Lageder</td>\n    </tr>\n  </tbody>\n</table>\n<p>150930 rows × 10 columns</p>\n</div>"
          },
          "metadata": {}
        }
      ]
    },
    {
      "metadata": {
        "trusted": true,
        "_uuid": "f5aff307bd7034b6a2e3781b008c4185e0175157"
      },
      "cell_type": "code",
      "source": "#q4.solution()",
      "execution_count": 9,
      "outputs": []
    },
    {
      "metadata": {
        "_uuid": "3741684201d128b2f9e662e7e412e19538db1ee4"
      },
      "cell_type": "markdown",
      "source": "## 5.\n\nRun the cell below to create and display a DataFrame called `animals`:"
    },
    {
      "metadata": {
        "trusted": true,
        "_uuid": "f1ebb122f70bb97a18693d705a2174418faf6e37"
      },
      "cell_type": "code",
      "source": "animals = pd.DataFrame({'Cows': [12, 20], 'Goats': [22, 19]}, index=['Year 1', 'Year 2'])\nanimals",
      "execution_count": 10,
      "outputs": [
        {
          "output_type": "execute_result",
          "execution_count": 10,
          "data": {
            "text/plain": "        Cows  Goats\nYear 1    12     22\nYear 2    20     19",
            "text/html": "<div>\n<style scoped>\n    .dataframe tbody tr th:only-of-type {\n        vertical-align: middle;\n    }\n\n    .dataframe tbody tr th {\n        vertical-align: top;\n    }\n\n    .dataframe thead th {\n        text-align: right;\n    }\n</style>\n<table border=\"1\" class=\"dataframe\">\n  <thead>\n    <tr style=\"text-align: right;\">\n      <th></th>\n      <th>Cows</th>\n      <th>Goats</th>\n    </tr>\n  </thead>\n  <tbody>\n    <tr>\n      <th>Year 1</th>\n      <td>12</td>\n      <td>22</td>\n    </tr>\n    <tr>\n      <th>Year 2</th>\n      <td>20</td>\n      <td>19</td>\n    </tr>\n  </tbody>\n</table>\n</div>"
          },
          "metadata": {}
        }
      ]
    },
    {
      "metadata": {
        "_uuid": "4a5887d54d34f7900fcafd8af32f3773f4cf2ca7"
      },
      "cell_type": "markdown",
      "source": "In the cell below, write code to save this DataFrame to disk as a csv file with the name `cows_and_goats.csv`."
    },
    {
      "metadata": {
        "trusted": true,
        "_uuid": "dff1749ce982a5612213f66d50f3bb0d642edae7"
      },
      "cell_type": "code",
      "source": "# Your code goes here\n\nq5.check()",
      "execution_count": 11,
      "outputs": [
        {
          "output_type": "display_data",
          "data": {
            "text/plain": "<IPython.core.display.Javascript object>",
            "application/javascript": "parent.postMessage({\"jupyterEvent\": \"custom.exercise_interaction\", \"data\": {\"outcomeType\": 2, \"failureMessage\": \"Expected file to exist with name `cows_and_goats.csv`\", \"interactionType\": 1, \"learnTutorialId\": 45, \"questionId\": \"5_SaveAnimalsCsv\", \"learnToolsVersion\": \"0.2.10\", \"valueTowardsCompletion\": 0.0, \"exceptionClass\": \"\", \"trace\": \"\"}}, \"*\")"
          },
          "metadata": {}
        },
        {
          "output_type": "display_data",
          "data": {
            "text/plain": "Incorrect: Expected file to exist with name `cows_and_goats.csv`",
            "text/markdown": "<span style=\"color:#cc3333\">Incorrect:</span> Expected file to exist with name `cows_and_goats.csv`"
          },
          "metadata": {}
        }
      ]
    },
    {
      "metadata": {
        "trusted": true,
        "_uuid": "232d22cd99f7c394ea761aaa04b33f72987a0665"
      },
      "cell_type": "code",
      "source": "#q5.solution()",
      "execution_count": 12,
      "outputs": []
    },
    {
      "metadata": {
        "_uuid": "7daa42a44aff3f543436b746a541a93df79aa594"
      },
      "cell_type": "markdown",
      "source": "## 6.\n\nThis exercise is optional. Read the following SQL data into a DataFrame called `music_reviews`:\n\n![](https://i.imgur.com/mmvbOT3.png)\n\nThe filepath is `../input/pitchfork-data/database.sqlite`. Hint: use the `sqlite3` library. The name of the table is `artists`."
    },
    {
      "metadata": {
        "trusted": true,
        "_uuid": "b686274d5292d317bca6542ffa509b9fa1284804"
      },
      "cell_type": "code",
      "source": "import sqlite3\nconn = sqlite3.connect(\"../input/pitchfork-data/database.sqlite\")\nmusic_reviews = pd.read_sql_query(\"SELECT * FROM artists\", conn)\n\nq6.check()\nmusic_reviews",
      "execution_count": 13,
      "outputs": [
        {
          "output_type": "display_data",
          "data": {
            "text/plain": "<IPython.core.display.Javascript object>",
            "application/javascript": "parent.postMessage({\"jupyterEvent\": \"custom.exercise_interaction\", \"data\": {\"outcomeType\": 1, \"valueTowardsCompletion\": 0.16666666666666666, \"interactionType\": 1, \"learnTutorialId\": 45, \"questionId\": \"6_ReadPitchforkSql\", \"learnToolsVersion\": \"0.2.10\", \"failureMessage\": \"\", \"exceptionClass\": \"\", \"trace\": \"\"}}, \"*\")"
          },
          "metadata": {}
        },
        {
          "output_type": "display_data",
          "data": {
            "text/plain": "Correct",
            "text/markdown": "<span style=\"color:#33cc33\">Correct</span>"
          },
          "metadata": {}
        },
        {
          "output_type": "execute_result",
          "execution_count": 13,
          "data": {
            "text/plain": "       reviewid          artist\n0         22703  massive attack\n1         22721        krallice\n...         ...             ...\n18829      2413   don caballero\n18830      3723  neil hamburger\n\n[18831 rows x 2 columns]",
            "text/html": "<div>\n<style scoped>\n    .dataframe tbody tr th:only-of-type {\n        vertical-align: middle;\n    }\n\n    .dataframe tbody tr th {\n        vertical-align: top;\n    }\n\n    .dataframe thead th {\n        text-align: right;\n    }\n</style>\n<table border=\"1\" class=\"dataframe\">\n  <thead>\n    <tr style=\"text-align: right;\">\n      <th></th>\n      <th>reviewid</th>\n      <th>artist</th>\n    </tr>\n  </thead>\n  <tbody>\n    <tr>\n      <th>0</th>\n      <td>22703</td>\n      <td>massive attack</td>\n    </tr>\n    <tr>\n      <th>1</th>\n      <td>22721</td>\n      <td>krallice</td>\n    </tr>\n    <tr>\n      <th>...</th>\n      <td>...</td>\n      <td>...</td>\n    </tr>\n    <tr>\n      <th>18829</th>\n      <td>2413</td>\n      <td>don caballero</td>\n    </tr>\n    <tr>\n      <th>18830</th>\n      <td>3723</td>\n      <td>neil hamburger</td>\n    </tr>\n  </tbody>\n</table>\n<p>18831 rows × 2 columns</p>\n</div>"
          },
          "metadata": {}
        }
      ]
    },
    {
      "metadata": {
        "trusted": true,
        "_uuid": "3f8fbd818b215c8295b1035fcc9fe9c4f02f5453"
      },
      "cell_type": "code",
      "source": "#q6.solution()",
      "execution_count": 14,
      "outputs": []
    },
    {
      "metadata": {
        "_uuid": "21229aafc8638cd3f7a5896280a3fbf9c54519b0"
      },
      "cell_type": "markdown",
      "source": "## Keep going\n\nMove on to the **[indexing, selecting and assigning workbook](https://www.kaggle.com/kernels/fork/587910)**\n\n___\nThis is part of the [Learn Pandas](https://www.kaggle.com/learn/pandas) series."
    }
  ],
  "metadata": {
    "kernelspec": {
      "display_name": "Python 3",
      "language": "python",
      "name": "python3"
    },
    "language_info": {
      "name": "python",
      "version": "3.6.6",
      "mimetype": "text/x-python",
      "codemirror_mode": {
        "name": "ipython",
        "version": 3
      },
      "pygments_lexer": "ipython3",
      "nbconvert_exporter": "python",
      "file_extension": ".py"
    }
  },
  "nbformat": 4,
  "nbformat_minor": 1
}