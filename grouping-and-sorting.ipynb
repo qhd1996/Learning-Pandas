{
  "cells": [
    {
      "metadata": {
        "collapsed": true,
        "_uuid": "86f0c136e38da40650a2f29a2f800e8fe4371cfe"
      },
      "cell_type": "markdown",
      "source": "# Introduction\nMaps allow us to transform data in a `DataFrame` or `Series` one value at a time for an entire column. However, often we want to group our data, and then do something specific to the group the data is in. We do this with the `groupby` operation.\n\nIn these exercises we'll apply groupwise analysis to our dataset.\n\n# Relevant Resources\n- [**Grouping Reference and Examples**](https://www.kaggle.com/residentmario/grouping-and-sorting-reference).  \n- [Pandas cheat sheet](https://github.com/pandas-dev/pandas/blob/master/doc/cheatsheet/Pandas_Cheat_Sheet.pdf)"
    },
    {
      "metadata": {
        "_uuid": "4184804d2f5740dc5f356664ae45f87850daafc7"
      },
      "cell_type": "markdown",
      "source": "# Set Up\nRun the code cell below to load the data before running the exercises."
    },
    {
      "metadata": {
        "trusted": true,
        "_uuid": "c3238721b77532006a36113b017f96e0369f6492"
      },
      "cell_type": "code",
      "source": "import pandas as pd\n\nreviews = pd.read_csv(\"../input/wine-reviews/winemag-data-130k-v2.csv\", index_col=0)\n#pd.set_option(\"display.max_rows\", 5)\n\nfrom learntools.core import binder; binder.bind(globals())\nfrom learntools.pandas.grouping_and_sorting import *\nprint(\"Setup complete.\")",
      "execution_count": 35,
      "outputs": [
        {
          "output_type": "stream",
          "text": "WARNING:root:Ignoring repeated attempt to bind to globals\n",
          "name": "stderr"
        },
        {
          "output_type": "stream",
          "text": "Setup complete.\n",
          "name": "stdout"
        }
      ]
    },
    {
      "metadata": {
        "_uuid": "fdadd3c0d4a2de9031f8ccc3eb364344db5eddc8"
      },
      "cell_type": "markdown",
      "source": "# Exercises"
    },
    {
      "metadata": {
        "_uuid": "7b458c8bbe3e6938f1005b4c3b8baebe805b04a5"
      },
      "cell_type": "markdown",
      "source": "**Exercise 1**: Who are the most common wine reviewers in the dataset? Create a `Series` whose index is the `taster_twitter_handle` category from the dataset, and whose values count how many reviews each person wrote."
    },
    {
      "metadata": {
        "trusted": true,
        "_uuid": "786fcbb0fc44c17c924a1794091a0c91c2274e15"
      },
      "cell_type": "code",
      "source": "# Your code here\nreviews_written = reviews.groupby('taster_twitter_handle').taster_twitter_handle.count()\nprint(reviews_written)\nq1.check()",
      "execution_count": 36,
      "outputs": [
        {
          "output_type": "stream",
          "text": "taster_twitter_handle\n@AnneInVino          3685\n@JoeCz               5147\n@bkfiona               27\n@gordone_cellars     4177\n@kerinokeefe        10776\n@laurbuzz            1835\n@mattkettmann        6332\n@paulgwine           9532\n@suskostrzewa        1085\n@vboone              9537\n@vossroger          25514\n@wawinereport        4966\n@wineschach         15134\n@winewchristina         6\n@worldwineguys       1005\nName: taster_twitter_handle, dtype: int64\n",
          "name": "stdout"
        },
        {
          "output_type": "display_data",
          "data": {
            "text/plain": "<IPython.core.display.Javascript object>",
            "application/javascript": "parent.postMessage({\"jupyterEvent\": \"custom.exercise_interaction\", \"data\": {\"outcomeType\": 1, \"valueTowardsCompletion\": 0.16666666666666666, \"interactionType\": 1, \"learnTutorialId\": 48, \"questionId\": \"1_ReviewsWritten\", \"learnToolsVersion\": \"0.2.10\", \"failureMessage\": \"\", \"exceptionClass\": \"\", \"trace\": \"\"}}, \"*\")"
          },
          "metadata": {}
        },
        {
          "output_type": "display_data",
          "data": {
            "text/plain": "Correct",
            "text/markdown": "<span style=\"color:#33cc33\">Correct</span>"
          },
          "metadata": {}
        }
      ]
    },
    {
      "metadata": {
        "trusted": true,
        "_uuid": "4ef4752dab89650d68a6fe3fc3b72d5662018f7c"
      },
      "cell_type": "code",
      "source": "#q1.solution()",
      "execution_count": 37,
      "outputs": []
    },
    {
      "metadata": {
        "_uuid": "ad06c8d6daf5ae706ecbc12c40ea5dfde805b561"
      },
      "cell_type": "markdown",
      "source": "**Exercise 2**: What is the best wine I can buy for a given amount of money? Create a `Series` whose index is wine prices and whose values is the maximum number of points a wine costing that much was given in a review. Sort the values by price, ascending (so that `4.0` dollars is at the top and `3300.0` dollars is at the bottom)."
    },
    {
      "metadata": {
        "trusted": true,
        "_uuid": "c291ddb66ac9162fe65f0a02506b371be1260ff6"
      },
      "cell_type": "code",
      "source": "best_rating_per_price = reviews.groupby('price').points.max().sort_index(ascending = True)\nprint(best_rating_per_price)\nq2.check()",
      "execution_count": 38,
      "outputs": [
        {
          "output_type": "stream",
          "text": "price\n4.0        86\n5.0        87\n6.0        88\n7.0        91\n8.0        91\n9.0        91\n10.0       91\n11.0       92\n12.0       93\n13.0       94\n14.0       94\n15.0       93\n16.0       94\n17.0       93\n18.0       94\n19.0       94\n20.0       96\n21.0       94\n22.0       95\n23.0       94\n24.0       95\n25.0       95\n26.0       95\n27.0       96\n28.0       96\n29.0       96\n30.0       96\n31.0       95\n32.0       96\n33.0       94\n         ... \n698.0      97\n710.0      95\n750.0      92\n757.0      98\n764.0      94\n767.0      96\n770.0      96\n775.0      98\n780.0      91\n790.0      87\n800.0      99\n820.0      96\n848.0     100\n850.0      99\n886.0      97\n900.0      94\n932.0      97\n973.0      95\n980.0      94\n1000.0     97\n1100.0     97\n1125.0     94\n1200.0     96\n1300.0     96\n1500.0    100\n1900.0     98\n2000.0     97\n2013.0     91\n2500.0     96\n3300.0     88\nName: points, Length: 390, dtype: int64\n",
          "name": "stdout"
        },
        {
          "output_type": "display_data",
          "data": {
            "text/plain": "<IPython.core.display.Javascript object>",
            "application/javascript": "parent.postMessage({\"jupyterEvent\": \"custom.exercise_interaction\", \"data\": {\"outcomeType\": 1, \"valueTowardsCompletion\": 0.16666666666666666, \"interactionType\": 1, \"learnTutorialId\": 48, \"questionId\": \"2_BestRatingPerPrice\", \"learnToolsVersion\": \"0.2.10\", \"failureMessage\": \"\", \"exceptionClass\": \"\", \"trace\": \"\"}}, \"*\")"
          },
          "metadata": {}
        },
        {
          "output_type": "display_data",
          "data": {
            "text/plain": "Correct",
            "text/markdown": "<span style=\"color:#33cc33\">Correct</span>"
          },
          "metadata": {}
        }
      ]
    },
    {
      "metadata": {
        "trusted": true,
        "_uuid": "8419944d164e6e7cc35fbd2651bf2cfc9dfd1d46"
      },
      "cell_type": "code",
      "source": "#q2.solution()",
      "execution_count": 39,
      "outputs": []
    },
    {
      "metadata": {
        "_uuid": "eb9020993e54aff9b0dca0ebe6919c0abde4e0c6"
      },
      "cell_type": "markdown",
      "source": "**Exercise 3**: What are the minimum and maximum prices for each `variety` of wine? Create a `DataFrame` whose index is the `variety` category from the dataset and whose values are the `min` and `max` values thereof."
    },
    {
      "metadata": {
        "trusted": true,
        "_uuid": "f5195af9ae216a8f829ded8c69728532b0a8d98a"
      },
      "cell_type": "code",
      "source": "price_extremes = reviews.groupby('variety').price.agg([min,max])\nprint(price_extremes)\nq3.check()",
      "execution_count": 40,
      "outputs": [
        {
          "output_type": "stream",
          "text": "                         min    max\nvariety                            \nAbouriou                15.0   75.0\nAgiorgitiko             10.0   66.0\nAglianico                6.0  180.0\nAidani                  27.0   27.0\nAiren                    8.0   10.0\nAlbana                  12.0   50.0\nAlbanello               20.0   20.0\nAlbariño                10.0   75.0\nAlbarossa               40.0   40.0\nAleatico                25.0   55.0\nAlfrocheiro             11.0   50.0\nAlicante                10.0   30.0\nAlicante Bouschet        7.0  150.0\nAligoté                 13.0   36.0\nAlsace white blend      10.0   98.0\nAltesse                 15.0   19.0\nAlvarelhão              18.0   24.0\nAlvarinho                9.0   75.0\nAlvarinho-Chardonnay     9.0   15.0\nAnsonica                22.0   30.0\nAntão Vaz               11.0   30.0\nApple                   25.0   33.0\nAragonez                10.0   35.0\nAragonês                14.0   70.0\nArgaman                 36.0   48.0\nArinto                   7.0   55.0\nArneis                  14.0   40.0\nAsprinio                15.0   15.0\nAssyrtico               12.0   40.0\nAssyrtiko               12.0   36.0\n...                      ...    ...\nViognier-Marsanne       16.0   28.0\nViognier-Roussanne      14.0   65.0\nViognier-Valdiguié      17.0   17.0\nViosinho                16.0   35.0\nVital                    NaN    NaN\nVitovska                23.0   85.0\nViura                    7.0   80.0\nViura-Chardonnay         9.0   14.0\nViura-Verdejo           11.0   13.0\nVranac                  11.0   11.0\nVranec                  13.0   20.0\nWeissburgunder          15.0   45.0\nWelschriesling          12.0   75.0\nWhite Blend              4.0  375.0\nWhite Port              40.0   40.0\nWhite Riesling           7.0   40.0\nXarel-lo                12.0   30.0\nXinisteri               20.0   20.0\nXinomavro               13.0   38.0\nXynisteri               16.0   21.0\nYapincak                16.0   20.0\nZelen                    NaN    NaN\nZibibbo                 19.0   60.0\nZierfandler             15.0   42.0\nZierfandler-Rotgipfler  20.0   25.0\nZinfandel                5.0  100.0\nZlahtina                13.0   16.0\nZweigelt                 9.0   70.0\nÇalkarası               19.0   19.0\nŽilavka                 15.0   15.0\n\n[707 rows x 2 columns]\n",
          "name": "stdout"
        },
        {
          "output_type": "display_data",
          "data": {
            "text/plain": "<IPython.core.display.Javascript object>",
            "application/javascript": "parent.postMessage({\"jupyterEvent\": \"custom.exercise_interaction\", \"data\": {\"outcomeType\": 1, \"valueTowardsCompletion\": 0.16666666666666666, \"interactionType\": 1, \"learnTutorialId\": 48, \"questionId\": \"3_PriceExtremes\", \"learnToolsVersion\": \"0.2.10\", \"failureMessage\": \"\", \"exceptionClass\": \"\", \"trace\": \"\"}}, \"*\")"
          },
          "metadata": {}
        },
        {
          "output_type": "display_data",
          "data": {
            "text/plain": "Correct",
            "text/markdown": "<span style=\"color:#33cc33\">Correct</span>"
          },
          "metadata": {}
        }
      ]
    },
    {
      "metadata": {
        "trusted": true,
        "_uuid": "36bc9d0671d635cc0682746a90c4939665526530"
      },
      "cell_type": "code",
      "source": "#q3.solution()",
      "execution_count": 41,
      "outputs": []
    },
    {
      "metadata": {
        "_uuid": "9df61c757accfcbb376cfd86a61dbfe7b0b9fbb0"
      },
      "cell_type": "markdown",
      "source": "**Exercise 4**: What are the most expensive wine varieties? Create a variable `sorted_varieties` containing a copy of the dataframe from the previous question where varieties are sorted in descending order based on minimum price, then on maximum price (to break ties)."
    },
    {
      "metadata": {
        "trusted": true,
        "_uuid": "dd85163a9eca99cc5dc4bc192df07c8e04f64881"
      },
      "cell_type": "code",
      "source": "sorted_varieties = reviews.groupby('variety').price.agg([min,max]).sort_values(by=['min','max'],ascending = False)\n\nq4.check()",
      "execution_count": 48,
      "outputs": [
        {
          "output_type": "display_data",
          "data": {
            "text/plain": "<IPython.core.display.Javascript object>",
            "application/javascript": "parent.postMessage({\"jupyterEvent\": \"custom.exercise_interaction\", \"data\": {\"outcomeType\": 1, \"valueTowardsCompletion\": 0.16666666666666666, \"interactionType\": 1, \"learnTutorialId\": 48, \"questionId\": \"4_SortedVarieties\", \"learnToolsVersion\": \"0.2.10\", \"failureMessage\": \"\", \"exceptionClass\": \"\", \"trace\": \"\"}}, \"*\")"
          },
          "metadata": {}
        },
        {
          "output_type": "display_data",
          "data": {
            "text/plain": "Correct",
            "text/markdown": "<span style=\"color:#33cc33\">Correct</span>"
          },
          "metadata": {}
        }
      ]
    },
    {
      "metadata": {
        "trusted": true,
        "_uuid": "3a12ebc7961068f42621f6ceabfddf49949ec490"
      },
      "cell_type": "code",
      "source": "#q4.solution()",
      "execution_count": 43,
      "outputs": []
    },
    {
      "metadata": {
        "_uuid": "b8a01c40d6d508c2a6cafd18fb006a7c4ab2643f"
      },
      "cell_type": "markdown",
      "source": "**Exercise 5**: Create a `Series` whose index is reviewers and whose values is the average review score given out by that reviewer. Hint: you will need the `taster_name` and `points` columns."
    },
    {
      "metadata": {
        "trusted": true,
        "_uuid": "209bcc2b80b00a5c28b6b3fe4047f85bb5c8bece"
      },
      "cell_type": "code",
      "source": "reviewer_mean_ratings = reviews.groupby('taster_name').points.mean()\n\nq5.check()\n",
      "execution_count": 59,
      "outputs": [
        {
          "output_type": "stream",
          "text": "<pandas.core.groupby.groupby.DataFrameGroupBy object at 0x7f8ba5168dd8>\n",
          "name": "stdout"
        },
        {
          "output_type": "display_data",
          "data": {
            "text/plain": "<IPython.core.display.Javascript object>",
            "application/javascript": "parent.postMessage({\"jupyterEvent\": \"custom.exercise_interaction\", \"data\": {\"outcomeType\": 1, \"valueTowardsCompletion\": 0.16666666666666666, \"interactionType\": 1, \"learnTutorialId\": 48, \"questionId\": \"5_ReviewerMeanRatings\", \"learnToolsVersion\": \"0.2.10\", \"failureMessage\": \"\", \"exceptionClass\": \"\", \"trace\": \"\"}}, \"*\")"
          },
          "metadata": {}
        },
        {
          "output_type": "display_data",
          "data": {
            "text/plain": "Correct",
            "text/markdown": "<span style=\"color:#33cc33\">Correct</span>"
          },
          "metadata": {}
        }
      ]
    },
    {
      "metadata": {
        "trusted": true,
        "_uuid": "54ab87de967d893d60daaa6e7d456eae6aa68958"
      },
      "cell_type": "code",
      "source": "#q5.solution()",
      "execution_count": 45,
      "outputs": []
    },
    {
      "metadata": {
        "_uuid": "e715eeec66845d72c629570cac3b0a6bf8b6f173"
      },
      "cell_type": "markdown",
      "source": "Are there significant differences in the average scores assigned by the various reviewers? Run the cell below to use the `describe()` method to see a summary of the range of values."
    },
    {
      "metadata": {
        "trusted": true,
        "_uuid": "4ebd08fda445f2e66dc8d1e8e125f845aaf86781"
      },
      "cell_type": "code",
      "source": "reviewer_mean_ratings.describe()",
      "execution_count": 46,
      "outputs": [
        {
          "output_type": "error",
          "ename": "AttributeError",
          "evalue": "'PlaceholderValue' object has no attribute 'describe'",
          "traceback": [
            "\u001b[0;31m---------------------------------------------------------------------------\u001b[0m",
            "\u001b[0;31mAttributeError\u001b[0m                            Traceback (most recent call last)",
            "\u001b[0;32m<ipython-input-46-c8767ceaa2cc>\u001b[0m in \u001b[0;36m<module>\u001b[0;34m()\u001b[0m\n\u001b[0;32m----> 1\u001b[0;31m \u001b[0mreviewer_mean_ratings\u001b[0m\u001b[0;34m.\u001b[0m\u001b[0mdescribe\u001b[0m\u001b[0;34m(\u001b[0m\u001b[0;34m)\u001b[0m\u001b[0;34m\u001b[0m\u001b[0m\n\u001b[0m",
            "\u001b[0;31mAttributeError\u001b[0m: 'PlaceholderValue' object has no attribute 'describe'"
          ]
        }
      ]
    },
    {
      "metadata": {
        "_uuid": "b0db1af5ebe01846df65ae1e532144b575d355d6"
      },
      "cell_type": "markdown",
      "source": "**Exercise 6**: What combination of countries and varieties are most common? Create a `Series` whose index is a `MultiIndex`of `{country, variety}` pairs. For example, a pinot noir produced in the US should map to `{\"US\", \"Pinot Noir\"}`. Sort the values in the `Series` in descending order based on wine count."
    },
    {
      "metadata": {
        "trusted": true,
        "_uuid": "d66f0794a2204031d145676ee0656898a714b7c3"
      },
      "cell_type": "code",
      "source": "\ncountry_variety_counts = reviews.assign(n=1).groupby(['country', 'variety']).n.count().sort_values(ascending=False)\n\nq6.check()",
      "execution_count": 65,
      "outputs": [
        {
          "output_type": "display_data",
          "data": {
            "text/plain": "<IPython.core.display.Javascript object>",
            "application/javascript": "parent.postMessage({\"jupyterEvent\": \"custom.exercise_interaction\", \"data\": {\"outcomeType\": 1, \"valueTowardsCompletion\": 0.16666666666666666, \"interactionType\": 1, \"learnTutorialId\": 48, \"questionId\": \"6_GroupbyCountryVariety\", \"learnToolsVersion\": \"0.2.10\", \"failureMessage\": \"\", \"exceptionClass\": \"\", \"trace\": \"\"}}, \"*\")"
          },
          "metadata": {}
        },
        {
          "output_type": "display_data",
          "data": {
            "text/plain": "Correct",
            "text/markdown": "<span style=\"color:#33cc33\">Correct</span>"
          },
          "metadata": {}
        }
      ]
    },
    {
      "metadata": {
        "trusted": true,
        "_uuid": "e41402d6819b478712dcd13479e468fc8498a15b"
      },
      "cell_type": "code",
      "source": "#q6.solution()",
      "execution_count": null,
      "outputs": []
    },
    {
      "metadata": {
        "_uuid": "226307c3443a027f8caf1d9ac4f88103e5e3e8e2"
      },
      "cell_type": "markdown",
      "source": "# Keep Going\n\nMove on to [**Data types and missing data workbook**](https://www.kaggle.com/kernels/fork/598826).\n\n___\nThis is part of the [*Learn Pandas*](https://www.kaggle.com/learn/pandas) series."
    }
  ],
  "metadata": {
    "kernelspec": {
      "display_name": "Python 3",
      "language": "python",
      "name": "python3"
    },
    "language_info": {
      "name": "python",
      "version": "3.6.6",
      "mimetype": "text/x-python",
      "codemirror_mode": {
        "name": "ipython",
        "version": 3
      },
      "pygments_lexer": "ipython3",
      "nbconvert_exporter": "python",
      "file_extension": ".py"
    }
  },
  "nbformat": 4,
  "nbformat_minor": 1
}