{
  "cells": [
    {
      "metadata": {
        "_uuid": "0851aa10101d9056ac5aab6cdc5151bdfbe8fa07"
      },
      "cell_type": "markdown",
      "source": "# Renaming and combining workbook\n\n## Introduction\n\nThis is the workbook part of the \"Renaming and combining\" section of the Advanced Pandas tutorial. For the reference section, click [here](https://www.kaggle.com/residentmario/renaming-and-combining-reference).\n\nRenaming is covered in its own section in the [\"Essential Basic Functionality\"](https://pandas.pydata.org/pandas-docs/stable/basics.html#renaming-mapping-labels) section of the extensive official documentation. Combining is covered by the [\"Merge, join, concatenate\"](https://pandas.pydata.org/pandas-docs/stable/merging.html) section there."
    },
    {
      "metadata": {
        "trusted": true,
        "_uuid": "00c730dab0661fded6a63510c1683cc8e891befb"
      },
      "cell_type": "code",
      "source": "import pandas as pd\n\nreviews = pd.read_csv(\"../input/wine-reviews/winemag-data-130k-v2.csv\", index_col=0)\n\nfrom learntools.core import binder; binder.bind(globals())\nfrom learntools.pandas.renaming_and_combining import *\nprint(\"Setup complete.\")",
      "execution_count": 17,
      "outputs": [
        {
          "output_type": "stream",
          "text": "WARNING:root:Ignoring repeated attempt to bind to globals\n",
          "name": "stderr"
        },
        {
          "output_type": "stream",
          "text": "Setup complete.\n",
          "name": "stdout"
        }
      ]
    },
    {
      "metadata": {
        "_uuid": "240dc560a23e9169184442751a287b47ca8e4dc8"
      },
      "cell_type": "markdown",
      "source": "# Exercises\n\nLook at your data by running the cell below:"
    },
    {
      "metadata": {
        "trusted": true,
        "_uuid": "a96d708c4ac4c3e9094d6a78d44cedbb1383b664"
      },
      "cell_type": "code",
      "source": "reviews.head()",
      "execution_count": 18,
      "outputs": [
        {
          "output_type": "execute_result",
          "execution_count": 18,
          "data": {
            "text/plain": "    country         ...                        winery\n0     Italy         ...                       Nicosia\n1  Portugal         ...           Quinta dos Avidagos\n2        US         ...                     Rainstorm\n3        US         ...                    St. Julian\n4        US         ...                  Sweet Cheeks\n\n[5 rows x 13 columns]",
            "text/html": "<div>\n<style scoped>\n    .dataframe tbody tr th:only-of-type {\n        vertical-align: middle;\n    }\n\n    .dataframe tbody tr th {\n        vertical-align: top;\n    }\n\n    .dataframe thead th {\n        text-align: right;\n    }\n</style>\n<table border=\"1\" class=\"dataframe\">\n  <thead>\n    <tr style=\"text-align: right;\">\n      <th></th>\n      <th>country</th>\n      <th>description</th>\n      <th>designation</th>\n      <th>points</th>\n      <th>price</th>\n      <th>province</th>\n      <th>region_1</th>\n      <th>region_2</th>\n      <th>taster_name</th>\n      <th>taster_twitter_handle</th>\n      <th>title</th>\n      <th>variety</th>\n      <th>winery</th>\n    </tr>\n  </thead>\n  <tbody>\n    <tr>\n      <th>0</th>\n      <td>Italy</td>\n      <td>Aromas include tropical fruit, broom, brimston...</td>\n      <td>Vulkà Bianco</td>\n      <td>87</td>\n      <td>NaN</td>\n      <td>Sicily &amp; Sardinia</td>\n      <td>Etna</td>\n      <td>NaN</td>\n      <td>Kerin O’Keefe</td>\n      <td>@kerinokeefe</td>\n      <td>Nicosia 2013 Vulkà Bianco  (Etna)</td>\n      <td>White Blend</td>\n      <td>Nicosia</td>\n    </tr>\n    <tr>\n      <th>1</th>\n      <td>Portugal</td>\n      <td>This is ripe and fruity, a wine that is smooth...</td>\n      <td>Avidagos</td>\n      <td>87</td>\n      <td>15.0</td>\n      <td>Douro</td>\n      <td>NaN</td>\n      <td>NaN</td>\n      <td>Roger Voss</td>\n      <td>@vossroger</td>\n      <td>Quinta dos Avidagos 2011 Avidagos Red (Douro)</td>\n      <td>Portuguese Red</td>\n      <td>Quinta dos Avidagos</td>\n    </tr>\n    <tr>\n      <th>2</th>\n      <td>US</td>\n      <td>Tart and snappy, the flavors of lime flesh and...</td>\n      <td>NaN</td>\n      <td>87</td>\n      <td>14.0</td>\n      <td>Oregon</td>\n      <td>Willamette Valley</td>\n      <td>Willamette Valley</td>\n      <td>Paul Gregutt</td>\n      <td>@paulgwine</td>\n      <td>Rainstorm 2013 Pinot Gris (Willamette Valley)</td>\n      <td>Pinot Gris</td>\n      <td>Rainstorm</td>\n    </tr>\n    <tr>\n      <th>3</th>\n      <td>US</td>\n      <td>Pineapple rind, lemon pith and orange blossom ...</td>\n      <td>Reserve Late Harvest</td>\n      <td>87</td>\n      <td>13.0</td>\n      <td>Michigan</td>\n      <td>Lake Michigan Shore</td>\n      <td>NaN</td>\n      <td>Alexander Peartree</td>\n      <td>NaN</td>\n      <td>St. Julian 2013 Reserve Late Harvest Riesling ...</td>\n      <td>Riesling</td>\n      <td>St. Julian</td>\n    </tr>\n    <tr>\n      <th>4</th>\n      <td>US</td>\n      <td>Much like the regular bottling from 2012, this...</td>\n      <td>Vintner's Reserve Wild Child Block</td>\n      <td>87</td>\n      <td>65.0</td>\n      <td>Oregon</td>\n      <td>Willamette Valley</td>\n      <td>Willamette Valley</td>\n      <td>Paul Gregutt</td>\n      <td>@paulgwine</td>\n      <td>Sweet Cheeks 2012 Vintner's Reserve Wild Child...</td>\n      <td>Pinot Noir</td>\n      <td>Sweet Cheeks</td>\n    </tr>\n  </tbody>\n</table>\n</div>"
          },
          "metadata": {}
        }
      ]
    },
    {
      "metadata": {
        "_uuid": "44e3c1ca8a7acb885225c3478ac85496e1945d4f"
      },
      "cell_type": "markdown",
      "source": "**Exercise 1**: `region_1` and `region_2` are pretty uninformative names for locale columns in the dataset. Create a copy of `reviews` with these columns renamed to `region` and `locale`, respectively."
    },
    {
      "metadata": {
        "trusted": true,
        "_uuid": "db79034b5ab1432053e8efcfe03eae2952b3f33f"
      },
      "cell_type": "code",
      "source": "# Your code here\nrenamed = reviews.rename(columns={'region_1': 'region', 'region_2': 'locale'})\n\nq1.check()",
      "execution_count": 19,
      "outputs": [
        {
          "output_type": "display_data",
          "data": {
            "text/plain": "<IPython.core.display.Javascript object>",
            "application/javascript": "parent.postMessage({\"jupyterEvent\": \"custom.exercise_interaction\", \"data\": {\"outcomeType\": 1, \"valueTowardsCompletion\": 0.25, \"interactionType\": 1, \"learnTutorialId\": 50, \"questionId\": \"1_RenameCols\", \"learnToolsVersion\": \"0.2.10\", \"failureMessage\": \"\", \"exceptionClass\": \"\", \"trace\": \"\"}}, \"*\")"
          },
          "metadata": {}
        },
        {
          "output_type": "display_data",
          "data": {
            "text/plain": "Correct",
            "text/markdown": "<span style=\"color:#33cc33\">Correct</span>"
          },
          "metadata": {}
        }
      ]
    },
    {
      "metadata": {
        "trusted": true,
        "_uuid": "a339692a4c73b4878056223197230fdd6623f781"
      },
      "cell_type": "code",
      "source": "#q1.solution()",
      "execution_count": 20,
      "outputs": []
    },
    {
      "metadata": {
        "_uuid": "0a933d76923ab17db8de0d3d4ce4cd99cac76769"
      },
      "cell_type": "markdown",
      "source": "**Exercise 2**: Set the index name in the dataset to `wines`."
    },
    {
      "metadata": {
        "trusted": true,
        "_uuid": "01aa6816e51a30f99dafb140f2ad4eabadfd880a"
      },
      "cell_type": "code",
      "source": "reindexed = reviews.rename_axis(\"wines\", axis=\"rows\")\n\nq2.check()",
      "execution_count": 21,
      "outputs": [
        {
          "output_type": "display_data",
          "data": {
            "text/plain": "<IPython.core.display.Javascript object>",
            "application/javascript": "parent.postMessage({\"jupyterEvent\": \"custom.exercise_interaction\", \"data\": {\"outcomeType\": 1, \"valueTowardsCompletion\": 0.25, \"interactionType\": 1, \"learnTutorialId\": 50, \"questionId\": \"2_RenameIndex\", \"learnToolsVersion\": \"0.2.10\", \"failureMessage\": \"\", \"exceptionClass\": \"\", \"trace\": \"\"}}, \"*\")"
          },
          "metadata": {}
        },
        {
          "output_type": "display_data",
          "data": {
            "text/plain": "Correct",
            "text/markdown": "<span style=\"color:#33cc33\">Correct</span>"
          },
          "metadata": {}
        }
      ]
    },
    {
      "metadata": {
        "trusted": true,
        "_uuid": "be1b66a4adc08e1498b4fe7d8022b4fbdbd58187"
      },
      "cell_type": "code",
      "source": "#q2.solution()",
      "execution_count": 22,
      "outputs": []
    },
    {
      "metadata": {
        "_uuid": "deae8d7a2cc1131d49ce417fba4b955f879b7529"
      },
      "cell_type": "markdown",
      "source": "**Exercise 3**: The [Things on Reddit](https://www.kaggle.com/residentmario/things-on-reddit/data) dataset includes product links from a selection of top-ranked forums (\"subreddits\") on reddit.com. Run the cell below to load a dataframe of products mentioned on the */r/gaming* subreddit and another dataframe for products mentioned on the *r//movies* subreddit."
    },
    {
      "metadata": {
        "trusted": true,
        "_uuid": "4cbacb9e1479cef9283da3ba5b52250b1d7bc970"
      },
      "cell_type": "code",
      "source": "gaming_products = pd.read_csv(\"../input/things-on-reddit/top-things/top-things/reddits/g/gaming.csv\")\ngaming_products['subreddit'] = \"r/gaming\"\nmovie_products = pd.read_csv(\"../input/things-on-reddit/top-things/top-things/reddits/m/movies.csv\")\nmovie_products['subreddit'] = \"r/movies\"",
      "execution_count": 23,
      "outputs": []
    },
    {
      "metadata": {
        "_uuid": "b4fcbdc29581b0ebbb45199f15b0007f92aaa8df"
      },
      "cell_type": "markdown",
      "source": "Create a `DataFrame` of products mentioned on *either* subreddit."
    },
    {
      "metadata": {
        "trusted": true,
        "_uuid": "f3d36bfd085f1b789ffb3e906371e3fc20efedf3"
      },
      "cell_type": "code",
      "source": "combined_products = pd.concat([gaming_products, movie_products],ignore_index=True)\n\nq3.check()",
      "execution_count": 24,
      "outputs": [
        {
          "output_type": "display_data",
          "data": {
            "text/plain": "<IPython.core.display.Javascript object>",
            "application/javascript": "parent.postMessage({\"jupyterEvent\": \"custom.exercise_interaction\", \"data\": {\"outcomeType\": 1, \"valueTowardsCompletion\": 0.25, \"interactionType\": 1, \"learnTutorialId\": 50, \"questionId\": \"3_ConcatReddit\", \"learnToolsVersion\": \"0.2.10\", \"failureMessage\": \"\", \"exceptionClass\": \"\", \"trace\": \"\"}}, \"*\")"
          },
          "metadata": {}
        },
        {
          "output_type": "display_data",
          "data": {
            "text/plain": "Correct",
            "text/markdown": "<span style=\"color:#33cc33\">Correct</span>"
          },
          "metadata": {}
        }
      ]
    },
    {
      "metadata": {
        "trusted": true,
        "_uuid": "4924ac3a995ad1573fa3b38558e0e9a5607960ad"
      },
      "cell_type": "code",
      "source": "#q3.solution()",
      "execution_count": 25,
      "outputs": []
    },
    {
      "metadata": {
        "_uuid": "89a0b55521d0ea942ff4a10a234f866387b3df46"
      },
      "cell_type": "markdown",
      "source": "**Exercise 4**: The [Powerlifting Database](https://www.kaggle.com/open-powerlifting/powerlifting-database) dataset on Kaggle includes one CSV table for powerlifting meets and a separate one for powerlifting competitors. Run the cell below to load these datasets into dataframes:"
    },
    {
      "metadata": {
        "trusted": true,
        "_uuid": "cbf21eeaa810dbf2b220fc8f7f299bb7ebb16ef4"
      },
      "cell_type": "code",
      "source": "powerlifting_meets = pd.read_csv(\"../input/powerlifting-database/meets.csv\")\npowerlifting_competitors = pd.read_csv(\"../input/powerlifting-database/openpowerlifting.csv\")",
      "execution_count": 26,
      "outputs": []
    },
    {
      "metadata": {
        "_uuid": "bfe3d35a162c88b7886884d771423269c67e0779"
      },
      "cell_type": "markdown",
      "source": "Both tables include references to a `MeetID`, a unique key for each meet (competition) included in the database. Using this, generate a dataset combining the two tables into one. Use the following data:"
    },
    {
      "metadata": {
        "trusted": true,
        "_uuid": "04c5953f682c07ab8373dd751b7bb976a5b0fefc"
      },
      "cell_type": "code",
      "source": "powerlifting_combined = powerlifting_meets.set_index(\"MeetID\").join(powerlifting_competitors.set_index(\"MeetID\"))\n\nq4.check()",
      "execution_count": 27,
      "outputs": [
        {
          "output_type": "display_data",
          "data": {
            "text/plain": "<IPython.core.display.Javascript object>",
            "application/javascript": "parent.postMessage({\"jupyterEvent\": \"custom.exercise_interaction\", \"data\": {\"outcomeType\": 1, \"valueTowardsCompletion\": 0.25, \"interactionType\": 1, \"learnTutorialId\": 50, \"questionId\": \"4_JoinLifting\", \"learnToolsVersion\": \"0.2.10\", \"failureMessage\": \"\", \"exceptionClass\": \"\", \"trace\": \"\"}}, \"*\")"
          },
          "metadata": {}
        },
        {
          "output_type": "display_data",
          "data": {
            "text/plain": "Correct",
            "text/markdown": "<span style=\"color:#33cc33\">Correct</span>"
          },
          "metadata": {}
        }
      ]
    },
    {
      "metadata": {
        "trusted": true,
        "_uuid": "4ac6c89011b54d9e6e6e6aaf0a8039b4becda3cc"
      },
      "cell_type": "code",
      "source": "#q4.solution()",
      "execution_count": 28,
      "outputs": []
    },
    {
      "metadata": {
        "_uuid": "8a73de2b0f615256948eb7f5c6779fe52a936d71"
      },
      "cell_type": "markdown",
      "source": "# Congratulations\n\nYou've finished the Pandas track.  Many data scientist feel efficiency with Pandas is the most useful and practical skill they have, because it allows you to progress quickly in any project you have.\n\nYou can take advantage of your Pandas skills by entering a [Kaggle Competition](https://www.kaggle.com/competitions) or answering a question you find interesting using [Kaggle Datasets](https://www.kaggle.com/datasets)."
    }
  ],
  "metadata": {
    "kernelspec": {
      "display_name": "Python 3",
      "language": "python",
      "name": "python3"
    },
    "language_info": {
      "name": "python",
      "version": "3.6.6",
      "mimetype": "text/x-python",
      "codemirror_mode": {
        "name": "ipython",
        "version": 3
      },
      "pygments_lexer": "ipython3",
      "nbconvert_exporter": "python",
      "file_extension": ".py"
    }
  },
  "nbformat": 4,
  "nbformat_minor": 1
}